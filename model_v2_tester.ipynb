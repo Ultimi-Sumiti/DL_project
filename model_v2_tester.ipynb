{
 "cells": [
  {
   "cell_type": "markdown",
   "id": "fdcb0e9e-ca8a-4dc1-bd43-dbe2606c4d11",
   "metadata": {},
   "source": [
    "## Import libraries"
   ]
  },
  {
   "cell_type": "code",
   "execution_count": 1,
   "id": "0651a6d2-473a-4c74-8ae0-aab7185732fc",
   "metadata": {},
   "outputs": [
    {
     "name": "stderr",
     "output_type": "stream",
     "text": [
      "/usr/lib/python3.13/site-packages/pretty_midi/instrument.py:11: UserWarning: pkg_resources is deprecated as an API. See https://setuptools.pypa.io/en/latest/pkg_resources.html. The pkg_resources package is slated for removal as early as 2025-11-30. Refrain from using this package or pin to Setuptools<81.\n",
      "  import pkg_resources\n"
     ]
    }
   ],
   "source": [
    "from models.model_v2 import *\n",
    "from data.midi_preprocessing import *\n",
    "from utils.dataset_loader import MaestroV3DataModule, MaestroV3DataSet"
   ]
  },
  {
   "cell_type": "markdown",
   "id": "41389892-27e3-4c85-9bad-b07c043ff4e7",
   "metadata": {},
   "source": [
    "## Loss callback"
   ]
  },
  {
   "cell_type": "code",
   "execution_count": 2,
   "id": "1821cccd-80f4-4859-9e2d-a411a2a8d526",
   "metadata": {},
   "outputs": [],
   "source": [
    "# Callback to track the loss of the minmax game.\n",
    "class LossTracker(L.Callback):\n",
    "    def __init__(self):\n",
    "        self.g_losses = []\n",
    "        self.d_losses = []\n",
    "\n",
    "    def on_train_batch_end(self, trainer, pl_module, outputs, batch, batch_idx):\n",
    "    #def on_train_epoch_end(self, trainer, pl_module):\n",
    "        g_loss = trainer.callback_metrics.get(\"g_loss\")\n",
    "        d_loss = trainer.callback_metrics.get(\"d_loss\")\n",
    "        self.g_losses.append(g_loss.item())\n",
    "        self.d_losses.append(d_loss.item())\n",
    "\n",
    "    def plot(self):\n",
    "        display.clear_output(wait=True)\n",
    "        plt.plot(self.g_losses, label=\"Generator Loss\")\n",
    "        plt.plot(self.d_losses, label=\"Discriminator Loss\")\n",
    "        plt.xlabel(\"Epoch\")\n",
    "        plt.ylabel(\"Loss\")\n",
    "        plt.title(\"Training Losses\")\n",
    "        plt.legend()\n",
    "        plt.grid(True)\n",
    "        plt.show()"
   ]
  },
  {
   "cell_type": "markdown",
   "id": "e68d74aa-516d-47a4-bf87-eb94f007f983",
   "metadata": {},
   "source": [
    "## Train the model"
   ]
  },
  {
   "cell_type": "code",
   "execution_count": 3,
   "id": "471d7448-111d-47ea-916c-e7104d80f31f",
   "metadata": {},
   "outputs": [
    {
     "name": "stderr",
     "output_type": "stream",
     "text": [
      "You are using the plain ModelCheckpoint callback. Consider using LitModelCheckpoint which with seamless uploading to Model registry.\n",
      "GPU available: True (cuda), used: True\n",
      "TPU available: False, using: 0 TPU cores\n",
      "HPU available: False, using: 0 HPUs\n"
     ]
    }
   ],
   "source": [
    "# Create the GAN.\n",
    "model = GAN(\n",
    "    lr=0.0002,\n",
    "    b1=0.5,\n",
    "    b2=0.999,\n",
    "    lambda_1=0.1,\n",
    "    lambda_2=1,\n",
    "    latent_dim=100,\n",
    "    gen_updates=2,\n",
    "    dis_updates=1,\n",
    "    mbd_B_dim=50,\n",
    "    mbd_C_dim=5,\n",
    "    batch_size=72,\n",
    "    a=32,\n",
    "    apply_mbd=True\n",
    ")\n",
    "\n",
    "# Dataset.\n",
    "data_file_path = \"data/preprocessed/maestro-v3.0.0/dataset2/dataset.h5\"\n",
    "dm = MaestroV3DataModule(data_file_path, mode=\"pair\")\n",
    "\n",
    "# LossTracker.\n",
    "loss_tracker = LossTracker()\n",
    "\n",
    "# Optuna params:\n",
    "    #lr: 1.3422089190108735e-05\n",
    "    #b1: 0.6685047603190793\n",
    "    #b2: 0.9570758815656579\n",
    "    #lambda_1: 0.5571400649008067\n",
    "    #lambda_2: 0.36707966570014705\n",
    "    #latent_dim: 94\n",
    "    #gen_updates: 1\n",
    "    #dis_updates: 4\n",
    "    #mbd_B_dim: 28\n",
    "    #mbd_C_dim: 21\n",
    "    #batch_size: 16\n",
    "    #a: 120\n",
    "    #apply_mbd: False\n",
    "\n",
    "# Define the trainer.\n",
    "trainer = L.Trainer(\n",
    "    accelerator=\"auto\",\n",
    "    devices=1,\n",
    "    max_epochs=100,\n",
    "    callbacks=[loss_tracker]\n",
    ")"
   ]
  },
  {
   "cell_type": "code",
   "execution_count": null,
   "id": "34d239c1-b003-44c4-bc7e-43d9e0d04c85",
   "metadata": {},
   "outputs": [
    {
     "name": "stderr",
     "output_type": "stream",
     "text": [
      "/usr/lib/python3.13/site-packages/pytorch_lightning/trainer/configuration_validator.py:70: You defined a `validation_step` but have no `val_dataloader`. Skipping val loop.\n",
      "You are using a CUDA device ('NVIDIA GeForce RTX 4070 SUPER') that has Tensor Cores. To properly utilize them, you should set `torch.set_float32_matmul_precision('medium' | 'high')` which will trade-off precision for performance. For more details, read https://pytorch.org/docs/stable/generated/torch.set_float32_matmul_precision.html#torch.set_float32_matmul_precision\n",
      "LOCAL_RANK: 0 - CUDA_VISIBLE_DEVICES: [0]\n",
      "\n",
      "  | Name          | Type          | Params | Mode \n",
      "--------------------------------------------------------\n",
      "0 | generator     | Generator     | 523 K  | train\n",
      "1 | discriminator | Discriminator | 355 K  | train\n",
      "--------------------------------------------------------\n",
      "879 K     Trainable params\n",
      "0         Non-trainable params\n",
      "879 K     Total params\n",
      "3.516     Total estimated model params size (MB)\n",
      "57        Modules in train mode\n",
      "0         Modules in eval mode\n"
     ]
    },
    {
     "name": "stdout",
     "output_type": "stream",
     "text": [
      "Epoch 0:  57%|████████████████████████████████████████████████████████████████████████████████████████████████▏                                                                       | 653/1140 [00:37<00:27, 17.56it/s, v_num=402, d_loss=1.360, g_loss=0.785]"
     ]
    }
   ],
   "source": [
    "trainer.fit(model, dm)"
   ]
  },
  {
   "cell_type": "code",
   "execution_count": null,
   "id": "33f4aeca-66bc-4617-985e-ea9cbb61ab93",
   "metadata": {},
   "outputs": [],
   "source": [
    "# Plot generator and discriminator losses.\n",
    "loss_tracker.plot()"
   ]
  },
  {
   "cell_type": "code",
   "execution_count": null,
   "id": "affda9ca-5b78-4696-b504-d282d925297b",
   "metadata": {},
   "outputs": [],
   "source": [
    "#plt.plot(loss_tracker.g_losses, label=\"Generator Loss\")\n",
    "#plt.plot(loss_tracker.d_losses, label=\"Discriminator Loss\")\n",
    "#plt.xlabel(\"Epoch\")\n",
    "#plt.ylabel(\"Loss\")\n",
    "#plt.title(\"Training Losses\")\n",
    "#plt.legend()\n",
    "#plt.grid(True)\n",
    "#plt.savefig(\"200_epoch_model_v2_losses.pdf\")"
   ]
  },
  {
   "cell_type": "markdown",
   "id": "c176911e-e235-460c-95c3-c63f1d07814b",
   "metadata": {},
   "source": [
    "## Testing"
   ]
  },
  {
   "cell_type": "code",
   "execution_count": null,
   "id": "0c244282-5192-4c58-9380-4055f1934d02",
   "metadata": {},
   "outputs": [],
   "source": [
    "import random\n",
    "\n",
    "# Define the dataset.\n",
    "dataset = MaestroV3DataSet(data_file_path, mode=\"pair\")\n",
    "\n",
    "# Random index.\n",
    "rnd_idx = random.randint(0, len(dataset))\n",
    "\n",
    "# Choose the first random sample from the dataset.\n",
    "bar_0, _ = dataset[rnd_idx] # [1, 128, 16]\n",
    "bar_0 = bar_0.unsqueeze(0)\n",
    "print(bar_0.shape)"
   ]
  },
  {
   "cell_type": "code",
   "execution_count": null,
   "id": "8d0d0f00-2203-429f-a842-c7736ae972c5",
   "metadata": {},
   "outputs": [],
   "source": [
    "# Set model in evaluation.\n",
    "model.eval()\n",
    "\n",
    "# Generate noise.\n",
    "noise = torch.randn(7, 1, 94)\n",
    "\n",
    "#for z in noise:\n",
    "#    print(z.shape)\n",
    "\n",
    "# Generate 8 bar.\n",
    "bars = [bar_0]\n",
    "for i, z in enumerate(noise):\n",
    "    # Previous bar.\n",
    "    prev = bars[i-1]\n",
    "\n",
    "    # Create the pair.\n",
    "    x = z, prev\n",
    "\n",
    "    # Generate current bar.\n",
    "    curr = model(x)\n",
    "\n",
    "    # Save genjerated bar\n",
    "    bars.append(curr)"
   ]
  },
  {
   "cell_type": "code",
   "execution_count": null,
   "id": "3d93ae82-229b-4402-8b9b-9ae03c3588cb",
   "metadata": {},
   "outputs": [],
   "source": [
    "# Convert bars in numpy array.\n",
    "bars_numpy = []\n",
    "for bar in bars:\n",
    "    bar = bar.squeeze(0, 1).detach().numpy()\n",
    "    #print(bar.shape)\n",
    "    bars_numpy.append(bar)"
   ]
  },
  {
   "cell_type": "code",
   "execution_count": null,
   "id": "e6d9f514-6c51-4ea7-830e-d12fe5262052",
   "metadata": {},
   "outputs": [],
   "source": [
    "# Plot each single bar.\n",
    "for i, bar in enumerate(bars_numpy):\n",
    "    print(\"Bar\", i)\n",
    "    show_piano_roll(bar)"
   ]
  },
  {
   "cell_type": "code",
   "execution_count": null,
   "id": "baa71934-6f24-4f95-abcd-7cd7e0610a70",
   "metadata": {},
   "outputs": [],
   "source": [
    "# Create the full piano roll.\n",
    "full_piano_roll = np.hstack([bar for bar in bars_numpy])\n",
    "print(\"Full piano roll\")\n",
    "print(\"Shape:\", full_piano_roll.shape)\n",
    "show_piano_roll(full_piano_roll)\n",
    "\n",
    "# Multiply by 50.\n",
    "full_piano_roll *= 50"
   ]
  },
  {
   "cell_type": "code",
   "execution_count": null,
   "id": "3d0f45d7-1c9e-4463-b38d-1ac9eb9ece49",
   "metadata": {},
   "outputs": [],
   "source": [
    "# Create the output midi file.\n",
    "pm = piano_roll_to_pretty_midi(full_piano_roll, fs=8)\n",
    "output_fn = \"output_test.midi\"\n",
    "pm.write(output_fn)"
   ]
  },
  {
   "cell_type": "code",
   "execution_count": null,
   "id": "a17e764a-b392-4431-8776-84f9e3b53607",
   "metadata": {},
   "outputs": [],
   "source": []
  }
 ],
 "metadata": {
  "kernelspec": {
   "display_name": "Python 3 (ipykernel)",
   "language": "python",
   "name": "python3"
  },
  "language_info": {
   "codemirror_mode": {
    "name": "ipython",
    "version": 3
   },
   "file_extension": ".py",
   "mimetype": "text/x-python",
   "name": "python",
   "nbconvert_exporter": "python",
   "pygments_lexer": "ipython3",
   "version": "3.13.5"
  }
 },
 "nbformat": 4,
 "nbformat_minor": 5
}
