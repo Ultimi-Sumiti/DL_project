Problem: blurry output for 

Cause: 
	-MSE output criterion, which assumes a Gaussian distribution for 
	
		unable to capture multi modality
		preference for small errors vs few outliers

	-Stadardize P(z)
		too simple
		ELBO may be too loose


GAN:
	The main problem with VAE is that it hard code the distribution
	making it explicit 

	The GAN make the distributio implicit (black box)

	So we need to redefine how to train the generative model 
	
	2 player game:
		-generator: it has to generate the data sample
		-discriminator: need to tell apart true data with generated data

		

		so it need to learn a decision boundary



Generator need to generate realistic samples:
	but instead of actually training it, since the model is implicit we can 
	actualy use the result of the discriminator to adjust the generator

Note: ideally the more the discriminator makes mistakes the more we are close to 
	  the solution, since it means that the generated data is close to the true one



  


