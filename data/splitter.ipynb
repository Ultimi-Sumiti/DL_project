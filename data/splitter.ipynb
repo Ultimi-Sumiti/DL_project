{
 "cells": [
  {
   "cell_type": "code",
   "execution_count": 5,
   "id": "66af4198-5a4d-4860-b4c6-76819860d423",
   "metadata": {},
   "outputs": [],
   "source": [
    "import pretty_midi\n",
    "import os\n",
    "import h5py\n",
    "import random\n",
    "import numpy as np"
   ]
  },
  {
   "cell_type": "code",
   "execution_count": 6,
   "id": "e01d0647-3546-4b7d-9e92-239d9a02ac6c",
   "metadata": {},
   "outputs": [],
   "source": [
    "\n",
    "def split_midi_by_bars(pm: pretty_midi.PrettyMIDI, bars_per_segment: int) -> list:\n",
    "    \"\"\"\n",
    "    Splits a PrettyMIDI object into segments of a specified number of bars.\n",
    "\n",
    "    Args:\n",
    "        pm: The PrettyMIDI object to split.\n",
    "        bars_per_segment: The number of bars each segment should contain.\n",
    "\n",
    "    Returns:\n",
    "        A list of new PrettyMIDI objects, each containing one segment.\n",
    "    \"\"\"\n",
    "    # Get the timestamps of the start of each bar\n",
    "    downbeats = pm.get_downbeats()\n",
    "\n",
    "    # Add the final end time to the list of downbeats to capture the last segment\n",
    "    downbeats = np.append(downbeats, pm.get_end_time())\n",
    "\n",
    "    segments = []\n",
    "    for i in range(0, len(downbeats) - 1, bars_per_segment):\n",
    "        # Define the start and end time for the current segment\n",
    "        start_time = downbeats[i]\n",
    "        end_time_index = min(i + bars_per_segment, len(downbeats) - 1)\n",
    "        end_time = downbeats[end_time_index]\n",
    "        \n",
    "        # Skip if the segment is empty\n",
    "        if start_time >= end_time:\n",
    "            continue\n",
    "\n",
    "        # Create a new PrettyMIDI object for the segment\n",
    "        segment_pm = pretty_midi.PrettyMIDI()\n",
    "\n",
    "        # Iterate through the instruments of the original file\n",
    "        for instrument in pm.instruments:\n",
    "            # Create a new instrument for the segment\n",
    "            segment_instrument = pretty_midi.Instrument(program=instrument.program, is_drum=instrument.is_drum, name=instrument.name)\n",
    "\n",
    "            # Copy notes that fall within the segment's time range\n",
    "            for note in instrument.notes:\n",
    "                if start_time <= note.start < end_time:\n",
    "                    # Create a new Note object with adjusted timing\n",
    "                    new_note = pretty_midi.Note(\n",
    "                        velocity=note.velocity,\n",
    "                        pitch=note.pitch,\n",
    "                        start=note.start - start_time, # Make time relative to segment start\n",
    "                        end=note.end - start_time\n",
    "                    )\n",
    "                    segment_instrument.notes.append(new_note)\n",
    "            \n",
    "            # Add the new instrument to the segment's PrettyMIDI object\n",
    "            if segment_instrument.notes:\n",
    "                segment_pm.instruments.append(segment_instrument)\n",
    "        \n",
    "        if segment_pm.instruments:\n",
    "            segments.append(segment_pm)\n",
    "            \n",
    "    return segments"
   ]
  },
  {
   "cell_type": "code",
   "execution_count": 7,
   "id": "2bec5fd3-c558-459d-bb68-7b38eade91e5",
   "metadata": {},
   "outputs": [],
   "source": [
    "\n",
    "### GLOBAL VARIABLES ###\n",
    "# Define the number of cols per bar.\n",
    "COLS_PER_BAR = 16\n",
    "# Define the directory of the dataset.\n",
    "INPUT_DIR_PATH =[\n",
    "    \"./raw/maestro-v3.0.0/2018/\",\n",
    "#    \"./raw/maestro-v3.0.0/2017/\",\n",
    "#    \"./raw/maestro-v3.0.0/2015/\",\n",
    "#    \"./raw/maestro-v3.0.0/2014/\"\n",
    "]\n",
    "\n",
    "# Define the output directory path.\n",
    "OUT_DIR_PATH = \"./raw/maestro-v3.0.0/splitted_2018/\"\n",
    "\n",
    "midi_data = []\n",
    "midi_splits = []\n",
    "counter = 0\n",
    "for dir in INPUT_DIR_PATH:\n",
    "    for filename in os.listdir(dir):\n",
    "        counter += 1\n",
    "        # Open the midi file.\n",
    "        midi = pretty_midi.PrettyMIDI(os.path.join(dir, filename))\n",
    "        dim = midi.get_piano_roll().shape[1]\n",
    "        midi_splits = split_midi_by_bars(midi, 50)\n",
    "        for i in range(len(midi_splits)):\n",
    "            midi_data.append(midi_splits[i])"
   ]
  },
  {
   "cell_type": "code",
   "execution_count": 9,
   "id": "ec812a8b-1e7d-4378-87d1-e0f87f3e9674",
   "metadata": {},
   "outputs": [
    {
     "name": "stdout",
     "output_type": "stream",
     "text": [
      "1033\n"
     ]
    }
   ],
   "source": [
    "print(len(midi_data))"
   ]
  },
  {
   "cell_type": "code",
   "execution_count": 10,
   "id": "476a3d4e-0b27-4a96-b340-51fca4c77a50",
   "metadata": {},
   "outputs": [],
   "source": [
    "midi_saved = random.sample(midi_data, 80)"
   ]
  },
  {
   "cell_type": "code",
   "execution_count": 13,
   "id": "99ab47c9-660b-4daa-bd92-78ebc1893769",
   "metadata": {},
   "outputs": [],
   "source": [
    "for i in range(80):\n",
    "    midi_saved[i].write(OUT_DIR_PATH + \"file_\" + str(i) + \".midi\")"
   ]
  },
  {
   "cell_type": "code",
   "execution_count": null,
   "id": "a63e404e-1146-4e0e-b298-b1e0d4fc93d9",
   "metadata": {},
   "outputs": [],
   "source": []
  }
 ],
 "metadata": {
  "kernelspec": {
   "display_name": "Python (DL & ML)",
   "language": "python",
   "name": "jupyter_env"
  },
  "language_info": {
   "codemirror_mode": {
    "name": "ipython",
    "version": 3
   },
   "file_extension": ".py",
   "mimetype": "text/x-python",
   "name": "python",
   "nbconvert_exporter": "python",
   "pygments_lexer": "ipython3",
   "version": "3.10.18"
  }
 },
 "nbformat": 4,
 "nbformat_minor": 5
}
