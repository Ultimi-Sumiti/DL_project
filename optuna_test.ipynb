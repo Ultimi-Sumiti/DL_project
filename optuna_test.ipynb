{
 "cells": [
  {
   "cell_type": "code",
   "execution_count": 1,
   "id": "12115a00-e23d-4b30-b05c-c3554729fbae",
   "metadata": {},
   "outputs": [
    {
     "name": "stderr",
     "output_type": "stream",
     "text": [
      "/usr/lib/python3.13/site-packages/google/protobuf/runtime_version.py:98: UserWarning: Protobuf gencode version 5.28.1 is exactly one major version older than the runtime version 6.31.1 at api.proto. Please update the gencode to avoid compatibility violations in the next runtime release.\n",
      "  warnings.warn(\n",
      "/usr/lib/python3.13/site-packages/tqdm/auto.py:21: TqdmWarning: IProgress not found. Please update jupyter and ipywidgets. See https://ipywidgets.readthedocs.io/en/stable/user_install.html\n",
      "  from .autonotebook import tqdm as notebook_tqdm\n"
     ]
    }
   ],
   "source": [
    "import optuna\n",
    "import pytorch_lightning as pl\n",
    "from pytorch_lightning import Trainer\n",
    "from pytorch_lightning.callbacks import EarlyStopping, ModelCheckpoint\n",
    "from pytorch_lightning.loggers import CSVLogger\n",
    "from pytorch_lightning.callbacks import LearningRateMonitor\n",
    "from pytorch_lightning.callbacks import Callback\n",
    "from torch.utils.data import DataLoader, TensorDataset\n",
    "import torch\n",
    "\n",
    "from models.model_v2 import *\n",
    "from utils.dataset_loader import MaestroV3DataModule\n",
    "\n",
    "def objective(trial):\n",
    "    # Suggest hyperparameters\n",
    "    lr = trial.suggest_loguniform('lr', 1e-5, 1e-2)\n",
    "    b1 = trial.suggest_uniform('b1', 0.0, 0.9)\n",
    "    b2 = trial.suggest_uniform('b2', 0.9, 0.999)\n",
    "    \n",
    "    lambda_1 = trial.suggest_float('lambda_1', 0.0, 1.0)\n",
    "    lambda_2 = trial.suggest_float('lambda_2', 0.0, 1.0)\n",
    "\n",
    "    latent_dim = trial.suggest_int('latent_dim', 50, 200)\n",
    "    gen_updates = trial.suggest_int('gen_updates', 1, 5)\n",
    "    dis_updates = trial.suggest_int('dis_updates', 1, 5)\n",
    "\n",
    "    mbd_B_dim = trial.suggest_int('mbd_B_dim', 1, 50)\n",
    "    mbd_C_dim = trial.suggest_int('mbd_C_dim', 1, 50)\n",
    "\n",
    "    batch_size = trial.suggest_categorical('batch_size', [16, 32, 64, 72])\n",
    "\n",
    "    a = trial.suggest_categorical('a', [16, 32, 48, 60, 72, 88, 104, 120, 128])\n",
    "\n",
    "    apply_mbd = tiral.suggest_categorical(\"apply_mbd\", [True, False])\n",
    "\n",
    "    # Dataset.\n",
    "    data_file_path = \"data/preprocessed/maestro-v3.0.0/dataset2/1K_dataset.h5\"\n",
    "    dm = MaestroV3DataModule(data_file_path, mode=\"pair\")\n",
    "\n",
    "    # Initialize model with trial hyperparameters\n",
    "    model = GAN(latent_dim=latent_dim,\n",
    "                lr=lr, b1=b1, b2=b2,\n",
    "                gen_updates=gen_updates,\n",
    "                dis_updates=dis_updates,\n",
    "                lambda_1=lambda_1,\n",
    "                lambda_2=lambda_2,\n",
    "                mbd_B_dim=mbd_B_dim,\n",
    "                mbd_C_dim=mbd_C_dim,\n",
    "                batch_size=batch_size,\n",
    "                apply_mbd=apply_mbd,\n",
    "                a=a\n",
    "    )\n",
    "\n",
    "    # Logger and callbacks\n",
    "    checkpoint_callback = ModelCheckpoint(monitor='g_loss', mode='min', save_top_k=1)\n",
    "\n",
    "    # Trainer\n",
    "    trainer = Trainer(\n",
    "        callbacks=[checkpoint_callback],\n",
    "        max_epochs=10,\n",
    "        accelerator=\"auto\",\n",
    "    )\n",
    "\n",
    "    # Train\n",
    "    trainer.fit(model, dm)\n",
    "\n",
    "    # Retrieve best metric\n",
    "    return checkpoint_callback.best_model_score.item()"
   ]
  },
  {
   "cell_type": "code",
   "execution_count": 2,
   "id": "e3f2d041-a0d3-4ff5-aa9e-289d5424579f",
   "metadata": {},
   "outputs": [
    {
     "name": "stderr",
     "output_type": "stream",
     "text": [
      "[I 2025-07-16 18:31:09,103] A new study created in memory with name: no-name-fd0f810f-670d-494c-b755-4d4b799c3007\n",
      "/tmp/ipykernel_49849/33919853.py:16: FutureWarning: suggest_loguniform has been deprecated in v3.0.0. This feature will be removed in v6.0.0. See https://github.com/optuna/optuna/releases/tag/v3.0.0. Use suggest_float(..., log=True) instead.\n",
      "  lr = trial.suggest_loguniform('lr', 1e-5, 1e-2)\n",
      "/tmp/ipykernel_49849/33919853.py:17: FutureWarning: suggest_uniform has been deprecated in v3.0.0. This feature will be removed in v6.0.0. See https://github.com/optuna/optuna/releases/tag/v3.0.0. Use suggest_float instead.\n",
      "  b1 = trial.suggest_uniform('b1', 0.0, 0.9)\n",
      "/tmp/ipykernel_49849/33919853.py:18: FutureWarning: suggest_uniform has been deprecated in v3.0.0. This feature will be removed in v6.0.0. See https://github.com/optuna/optuna/releases/tag/v3.0.0. Use suggest_float instead.\n",
      "  b2 = trial.suggest_uniform('b2', 0.9, 0.999)\n",
      "GPU available: True (cuda), used: True\n",
      "TPU available: False, using: 0 TPU cores\n",
      "HPU available: False, using: 0 HPUs\n",
      "/usr/lib/python3.13/site-packages/pytorch_lightning/trainer/configuration_validator.py:70: You defined a `validation_step` but have no `val_dataloader`. Skipping val loop.\n",
      "You are using a CUDA device ('NVIDIA GeForce RTX 4070 SUPER') that has Tensor Cores. To properly utilize them, you should set `torch.set_float32_matmul_precision('medium' | 'high')` which will trade-off precision for performance. For more details, read https://pytorch.org/docs/stable/generated/torch.set_float32_matmul_precision.html#torch.set_float32_matmul_precision\n",
      "LOCAL_RANK: 0 - CUDA_VISIBLE_DEVICES: [0]\n",
      "\n",
      "  | Name          | Type          | Params | Mode \n",
      "--------------------------------------------------------\n",
      "0 | generator     | Generator     | 786 K  | train\n",
      "1 | discriminator | Discriminator | 246 K  | train\n",
      "--------------------------------------------------------\n",
      "1.0 M     Trainable params\n",
      "0         Non-trainable params\n",
      "1.0 M     Total params\n",
      "4.134     Total estimated model params size (MB)\n",
      "56        Modules in train mode\n",
      "0         Modules in eval mode\n"
     ]
    },
    {
     "name": "stdout",
     "output_type": "stream",
     "text": [
      "Epoch 9: 100%|███████████████████████████████████████████████████████████████████████████████████████████████████████████████████████████████████████████████████████████████████████████| 50/50 [00:01<00:00, 37.66it/s, v_num=387, d_loss=0.329, g_loss=6.500]"
     ]
    },
    {
     "name": "stderr",
     "output_type": "stream",
     "text": [
      "`Trainer.fit` stopped: `max_epochs=10` reached.\n"
     ]
    },
    {
     "name": "stdout",
     "output_type": "stream",
     "text": [
      "Epoch 9: 100%|███████████████████████████████████████████████████████████████████████████████████████████████████████████████████████████████████████████████████████████████████████████| 50/50 [00:01<00:00, 37.62it/s, v_num=387, d_loss=0.329, g_loss=6.500]\n"
     ]
    },
    {
     "name": "stderr",
     "output_type": "stream",
     "text": [
      "[I 2025-07-16 18:31:22,855] Trial 0 finished with value: 0.47491776943206787 and parameters: {'lr': 0.0023662908281038065, 'b1': 0.08735207572803007, 'b2': 0.9316129622495016, 'lambda_1': 0.9644689668391763, 'lambda_2': 0.23088889505353316, 'latent_dim': 170, 'gen_updates': 4, 'dis_updates': 3, 'mbd_B_dim': 19, 'mbd_C_dim': 23, 'batch_size': 16, 'a': 128}. Best is trial 0 with value: 0.47491776943206787.\n",
      "GPU available: True (cuda), used: True\n",
      "TPU available: False, using: 0 TPU cores\n",
      "HPU available: False, using: 0 HPUs\n",
      "LOCAL_RANK: 0 - CUDA_VISIBLE_DEVICES: [0]\n",
      "\n",
      "  | Name          | Type          | Params | Mode \n",
      "--------------------------------------------------------\n",
      "0 | generator     | Generator     | 580 K  | train\n",
      "1 | discriminator | Discriminator | 246 K  | train\n",
      "--------------------------------------------------------\n",
      "826 K     Trainable params\n",
      "0         Non-trainable params\n",
      "826 K     Total params\n",
      "3.307     Total estimated model params size (MB)\n",
      "56        Modules in train mode\n",
      "0         Modules in eval mode\n"
     ]
    },
    {
     "name": "stdout",
     "output_type": "stream",
     "text": [
      "Epoch 9: 100%|███████████████████████████████████████████████████████████████████████████████████████████████████████████████████████████████████████████████████████████████████████████| 50/50 [00:01<00:00, 37.57it/s, v_num=388, d_loss=1.370, g_loss=0.798]"
     ]
    },
    {
     "name": "stderr",
     "output_type": "stream",
     "text": [
      "`Trainer.fit` stopped: `max_epochs=10` reached.\n"
     ]
    },
    {
     "name": "stdout",
     "output_type": "stream",
     "text": [
      "Epoch 9: 100%|███████████████████████████████████████████████████████████████████████████████████████████████████████████████████████████████████████████████████████████████████████████| 50/50 [00:01<00:00, 37.53it/s, v_num=388, d_loss=1.370, g_loss=0.798]\n"
     ]
    },
    {
     "name": "stderr",
     "output_type": "stream",
     "text": [
      "[I 2025-07-16 18:31:36,191] Trial 1 finished with value: 0.7876414656639099 and parameters: {'lr': 2.4691276907329113e-05, 'b1': 0.6800699787926855, 'b2': 0.9761063041993174, 'lambda_1': 0.754477347072067, 'lambda_2': 0.6419059928263968, 'latent_dim': 112, 'gen_updates': 4, 'dis_updates': 3, 'mbd_B_dim': 5, 'mbd_C_dim': 29, 'batch_size': 64, 'a': 60}. Best is trial 0 with value: 0.47491776943206787.\n",
      "GPU available: True (cuda), used: True\n",
      "TPU available: False, using: 0 TPU cores\n",
      "HPU available: False, using: 0 HPUs\n",
      "LOCAL_RANK: 0 - CUDA_VISIBLE_DEVICES: [0]\n",
      "\n",
      "  | Name          | Type          | Params | Mode \n",
      "--------------------------------------------------------\n",
      "0 | generator     | Generator     | 680 K  | train\n",
      "1 | discriminator | Discriminator | 246 K  | train\n",
      "--------------------------------------------------------\n",
      "926 K     Trainable params\n",
      "0         Non-trainable params\n",
      "926 K     Total params\n",
      "3.708     Total estimated model params size (MB)\n",
      "56        Modules in train mode\n",
      "0         Modules in eval mode\n"
     ]
    },
    {
     "name": "stdout",
     "output_type": "stream",
     "text": [
      "Epoch 9: 100%|███████████████████████████████████████████████████████████████████████████████████████████████████████████████████████████████████████████████████████████████████████████| 50/50 [00:01<00:00, 34.59it/s, v_num=389, d_loss=0.438, g_loss=9.630]"
     ]
    },
    {
     "name": "stderr",
     "output_type": "stream",
     "text": [
      "`Trainer.fit` stopped: `max_epochs=10` reached.\n"
     ]
    },
    {
     "name": "stdout",
     "output_type": "stream",
     "text": [
      "Epoch 9: 100%|███████████████████████████████████████████████████████████████████████████████████████████████████████████████████████████████████████████████████████████████████████████| 50/50 [00:01<00:00, 34.57it/s, v_num=389, d_loss=0.438, g_loss=9.630]\n"
     ]
    },
    {
     "name": "stderr",
     "output_type": "stream",
     "text": [
      "[I 2025-07-16 18:31:50,637] Trial 2 finished with value: 0.06876721978187561 and parameters: {'lr': 0.0051570139729141306, 'b1': 0.48580737687313796, 'b2': 0.9288852734922046, 'lambda_1': 0.9387471013164725, 'lambda_2': 0.6244018738194345, 'latent_dim': 66, 'gen_updates': 4, 'dis_updates': 4, 'mbd_B_dim': 8, 'mbd_C_dim': 34, 'batch_size': 32, 'a': 128}. Best is trial 2 with value: 0.06876721978187561.\n",
      "GPU available: True (cuda), used: True\n",
      "TPU available: False, using: 0 TPU cores\n",
      "HPU available: False, using: 0 HPUs\n",
      "LOCAL_RANK: 0 - CUDA_VISIBLE_DEVICES: [0]\n",
      "\n",
      "  | Name          | Type          | Params | Mode \n",
      "--------------------------------------------------------\n",
      "0 | generator     | Generator     | 616 K  | train\n",
      "1 | discriminator | Discriminator | 246 K  | train\n",
      "--------------------------------------------------------\n",
      "863 K     Trainable params\n",
      "0         Non-trainable params\n",
      "863 K     Total params\n",
      "3.453     Total estimated model params size (MB)\n",
      "56        Modules in train mode\n",
      "0         Modules in eval mode\n"
     ]
    },
    {
     "name": "stdout",
     "output_type": "stream",
     "text": [
      "Epoch 9: 100%|███████████████████████████████████████████████████████████████████████████████████████████████████████████████████████████████████████████████████████████████████████████| 50/50 [00:01<00:00, 43.47it/s, v_num=390, d_loss=0.327, g_loss=8.020]"
     ]
    },
    {
     "name": "stderr",
     "output_type": "stream",
     "text": [
      "`Trainer.fit` stopped: `max_epochs=10` reached.\n"
     ]
    },
    {
     "name": "stdout",
     "output_type": "stream",
     "text": [
      "Epoch 9: 100%|███████████████████████████████████████████████████████████████████████████████████████████████████████████████████████████████████████████████████████████████████████████| 50/50 [00:01<00:00, 43.43it/s, v_num=390, d_loss=0.327, g_loss=8.020]\n"
     ]
    },
    {
     "name": "stderr",
     "output_type": "stream",
     "text": [
      "[I 2025-07-16 18:32:02,186] Trial 3 finished with value: 0.7850778102874756 and parameters: {'lr': 0.003939395316269488, 'b1': 0.145896344224725, 'b2': 0.9505255135434147, 'lambda_1': 0.09299650864002029, 'lambda_2': 0.9472325108948141, 'latent_dim': 191, 'gen_updates': 2, 'dis_updates': 4, 'mbd_B_dim': 50, 'mbd_C_dim': 44, 'batch_size': 16, 'a': 32}. Best is trial 2 with value: 0.06876721978187561.\n",
      "GPU available: True (cuda), used: True\n",
      "TPU available: False, using: 0 TPU cores\n",
      "HPU available: False, using: 0 HPUs\n",
      "LOCAL_RANK: 0 - CUDA_VISIBLE_DEVICES: [0]\n",
      "\n",
      "  | Name          | Type          | Params | Mode \n",
      "--------------------------------------------------------\n",
      "0 | generator     | Generator     | 607 K  | train\n",
      "1 | discriminator | Discriminator | 246 K  | train\n",
      "--------------------------------------------------------\n",
      "854 K     Trainable params\n",
      "0         Non-trainable params\n",
      "854 K     Total params\n",
      "3.417     Total estimated model params size (MB)\n",
      "56        Modules in train mode\n",
      "0         Modules in eval mode\n"
     ]
    },
    {
     "name": "stdout",
     "output_type": "stream",
     "text": [
      "Epoch 9: 100%|███████████████████████████████████████████████████████████████████████████████████████████████████████████████████████████████████████████████████████████████████████████| 50/50 [00:01<00:00, 32.62it/s, v_num=391, d_loss=0.337, g_loss=6.390]"
     ]
    },
    {
     "name": "stderr",
     "output_type": "stream",
     "text": [
      "`Trainer.fit` stopped: `max_epochs=10` reached.\n"
     ]
    },
    {
     "name": "stdout",
     "output_type": "stream",
     "text": [
      "Epoch 9: 100%|███████████████████████████████████████████████████████████████████████████████████████████████████████████████████████████████████████████████████████████████████████████| 50/50 [00:01<00:00, 32.60it/s, v_num=391, d_loss=0.337, g_loss=6.390]\n"
     ]
    },
    {
     "name": "stderr",
     "output_type": "stream",
     "text": [
      "[I 2025-07-16 18:32:17,850] Trial 4 finished with value: 0.9095302820205688 and parameters: {'lr': 0.0007688585381950213, 'b1': 0.48437825465340595, 'b2': 0.9410062089378837, 'lambda_1': 0.9860972302042496, 'lambda_2': 0.5956049863949521, 'latent_dim': 52, 'gen_updates': 4, 'dis_updates': 5, 'mbd_B_dim': 36, 'mbd_C_dim': 43, 'batch_size': 72, 'a': 104}. Best is trial 2 with value: 0.06876721978187561.\n",
      "GPU available: True (cuda), used: True\n",
      "TPU available: False, using: 0 TPU cores\n",
      "HPU available: False, using: 0 HPUs\n",
      "LOCAL_RANK: 0 - CUDA_VISIBLE_DEVICES: [0]\n",
      "\n",
      "  | Name          | Type          | Params | Mode \n",
      "--------------------------------------------------------\n",
      "0 | generator     | Generator     | 648 K  | train\n",
      "1 | discriminator | Discriminator | 246 K  | train\n",
      "--------------------------------------------------------\n",
      "895 K     Trainable params\n",
      "0         Non-trainable params\n",
      "895 K     Total params\n",
      "3.581     Total estimated model params size (MB)\n",
      "56        Modules in train mode\n",
      "0         Modules in eval mode\n"
     ]
    },
    {
     "name": "stdout",
     "output_type": "stream",
     "text": [
      "Epoch 9: 100%|███████████████████████████████████████████████████████████████████████████████████████████████████████████████████████████████████████████████████████████████████████████| 50/50 [00:01<00:00, 36.12it/s, v_num=392, d_loss=0.505, g_loss=5.280]"
     ]
    },
    {
     "name": "stderr",
     "output_type": "stream",
     "text": [
      "`Trainer.fit` stopped: `max_epochs=10` reached.\n"
     ]
    },
    {
     "name": "stdout",
     "output_type": "stream",
     "text": [
      "Epoch 9: 100%|███████████████████████████████████████████████████████████████████████████████████████████████████████████████████████████████████████████████████████████████████████████| 50/50 [00:01<00:00, 36.10it/s, v_num=392, d_loss=0.505, g_loss=5.280]\n"
     ]
    },
    {
     "name": "stderr",
     "output_type": "stream",
     "text": [
      "[I 2025-07-16 18:32:32,059] Trial 5 finished with value: 0.04525423422455788 and parameters: {'lr': 0.007042999705570105, 'b1': 0.0806640259552736, 'b2': 0.914177508686712, 'lambda_1': 0.14540658723349498, 'lambda_2': 0.9393229432661905, 'latent_dim': 92, 'gen_updates': 3, 'dis_updates': 5, 'mbd_B_dim': 37, 'mbd_C_dim': 47, 'batch_size': 16, 'a': 104}. Best is trial 5 with value: 0.04525423422455788.\n",
      "GPU available: True (cuda), used: True\n",
      "TPU available: False, using: 0 TPU cores\n",
      "HPU available: False, using: 0 HPUs\n",
      "LOCAL_RANK: 0 - CUDA_VISIBLE_DEVICES: [0]\n",
      "\n",
      "  | Name          | Type          | Params | Mode \n",
      "--------------------------------------------------------\n",
      "0 | generator     | Generator     | 595 K  | train\n",
      "1 | discriminator | Discriminator | 246 K  | train\n",
      "--------------------------------------------------------\n",
      "841 K     Trainable params\n",
      "0         Non-trainable params\n",
      "841 K     Total params\n",
      "3.367     Total estimated model params size (MB)\n",
      "56        Modules in train mode\n",
      "0         Modules in eval mode\n"
     ]
    },
    {
     "name": "stdout",
     "output_type": "stream",
     "text": [
      "Epoch 9: 100%|███████████████████████████████████████████████████████████████████████████████████████████████████████████████████████████████████████████████████████████████████████████| 50/50 [00:00<00:00, 63.76it/s, v_num=393, d_loss=0.888, g_loss=1.600]"
     ]
    },
    {
     "name": "stderr",
     "output_type": "stream",
     "text": [
      "`Trainer.fit` stopped: `max_epochs=10` reached.\n"
     ]
    },
    {
     "name": "stdout",
     "output_type": "stream",
     "text": [
      "Epoch 9: 100%|███████████████████████████████████████████████████████████████████████████████████████████████████████████████████████████████████████████████████████████████████████████| 50/50 [00:00<00:00, 63.68it/s, v_num=393, d_loss=0.888, g_loss=1.600]\n"
     ]
    },
    {
     "name": "stderr",
     "output_type": "stream",
     "text": [
      "[I 2025-07-16 18:32:40,155] Trial 6 finished with value: 0.7957150340080261 and parameters: {'lr': 0.00018382839244020455, 'b1': 0.3258841529041485, 'b2': 0.9705711925273952, 'lambda_1': 0.633194192651097, 'lambda_2': 0.1910710572944071, 'latent_dim': 170, 'gen_updates': 2, 'dis_updates': 1, 'mbd_B_dim': 11, 'mbd_C_dim': 2, 'batch_size': 72, 'a': 32}. Best is trial 5 with value: 0.04525423422455788.\n",
      "GPU available: True (cuda), used: True\n",
      "TPU available: False, using: 0 TPU cores\n",
      "HPU available: False, using: 0 HPUs\n",
      "LOCAL_RANK: 0 - CUDA_VISIBLE_DEVICES: [0]\n",
      "\n",
      "  | Name          | Type          | Params | Mode \n",
      "--------------------------------------------------------\n",
      "0 | generator     | Generator     | 581 K  | train\n",
      "1 | discriminator | Discriminator | 246 K  | train\n",
      "--------------------------------------------------------\n",
      "827 K     Trainable params\n",
      "0         Non-trainable params\n",
      "827 K     Total params\n",
      "3.312     Total estimated model params size (MB)\n",
      "56        Modules in train mode\n",
      "0         Modules in eval mode\n"
     ]
    },
    {
     "name": "stdout",
     "output_type": "stream",
     "text": [
      "Epoch 9: 100%|███████████████████████████████████████████████████████████████████████████████████████████████████████████████████████████████████████████████████████████████████████████| 50/50 [00:01<00:00, 47.10it/s, v_num=394, d_loss=0.754, g_loss=2.160]"
     ]
    },
    {
     "name": "stderr",
     "output_type": "stream",
     "text": [
      "`Trainer.fit` stopped: `max_epochs=10` reached.\n"
     ]
    },
    {
     "name": "stdout",
     "output_type": "stream",
     "text": [
      "Epoch 9: 100%|███████████████████████████████████████████████████████████████████████████████████████████████████████████████████████████████████████████████████████████████████████████| 50/50 [00:01<00:00, 47.05it/s, v_num=394, d_loss=0.754, g_loss=2.160]\n"
     ]
    },
    {
     "name": "stderr",
     "output_type": "stream",
     "text": [
      "[I 2025-07-16 18:32:50,610] Trial 7 finished with value: 0.7062475085258484 and parameters: {'lr': 0.006324564617526195, 'b1': 0.5798319518504667, 'b2': 0.9728600943506099, 'lambda_1': 0.9522362645484128, 'lambda_2': 0.37362462257990636, 'latent_dim': 113, 'gen_updates': 3, 'dis_updates': 2, 'mbd_B_dim': 27, 'mbd_C_dim': 11, 'batch_size': 64, 'a': 60}. Best is trial 5 with value: 0.04525423422455788.\n",
      "GPU available: True (cuda), used: True\n",
      "TPU available: False, using: 0 TPU cores\n",
      "HPU available: False, using: 0 HPUs\n",
      "LOCAL_RANK: 0 - CUDA_VISIBLE_DEVICES: [0]\n",
      "\n",
      "  | Name          | Type          | Params | Mode \n",
      "--------------------------------------------------------\n",
      "0 | generator     | Generator     | 798 K  | train\n",
      "1 | discriminator | Discriminator | 246 K  | train\n",
      "--------------------------------------------------------\n",
      "1.0 M     Trainable params\n",
      "0         Non-trainable params\n",
      "1.0 M     Total params\n",
      "4.179     Total estimated model params size (MB)\n",
      "56        Modules in train mode\n",
      "0         Modules in eval mode\n"
     ]
    },
    {
     "name": "stdout",
     "output_type": "stream",
     "text": [
      "Epoch 9: 100%|███████████████████████████████████████████████████████████████████████████████████████████████████████████████████████████████████████████████████████████████████████████| 50/50 [00:01<00:00, 39.34it/s, v_num=395, d_loss=0.474, g_loss=5.640]"
     ]
    },
    {
     "name": "stderr",
     "output_type": "stream",
     "text": [
      "`Trainer.fit` stopped: `max_epochs=10` reached.\n"
     ]
    },
    {
     "name": "stdout",
     "output_type": "stream",
     "text": [
      "Epoch 9: 100%|███████████████████████████████████████████████████████████████████████████████████████████████████████████████████████████████████████████████████████████████████████████| 50/50 [00:01<00:00, 39.30it/s, v_num=395, d_loss=0.474, g_loss=5.640]\n"
     ]
    },
    {
     "name": "stderr",
     "output_type": "stream",
     "text": [
      "[I 2025-07-16 18:33:03,397] Trial 8 finished with value: 0.7898179888725281 and parameters: {'lr': 0.0001298354826909082, 'b1': 0.3918481412504847, 'b2': 0.9440018840801424, 'lambda_1': 0.05907699174072045, 'lambda_2': 0.08401366394533372, 'latent_dim': 181, 'gen_updates': 2, 'dis_updates': 5, 'mbd_B_dim': 14, 'mbd_C_dim': 6, 'batch_size': 16, 'a': 128}. Best is trial 5 with value: 0.04525423422455788.\n",
      "GPU available: True (cuda), used: True\n",
      "TPU available: False, using: 0 TPU cores\n",
      "HPU available: False, using: 0 HPUs\n",
      "LOCAL_RANK: 0 - CUDA_VISIBLE_DEVICES: [0]\n",
      "\n",
      "  | Name          | Type          | Params | Mode \n",
      "--------------------------------------------------------\n",
      "0 | generator     | Generator     | 678 K  | train\n",
      "1 | discriminator | Discriminator | 246 K  | train\n",
      "--------------------------------------------------------\n",
      "925 K     Trainable params\n",
      "0         Non-trainable params\n",
      "925 K     Total params\n",
      "3.701     Total estimated model params size (MB)\n",
      "56        Modules in train mode\n",
      "0         Modules in eval mode\n"
     ]
    },
    {
     "name": "stdout",
     "output_type": "stream",
     "text": [
      "Epoch 9: 100%|███████████████████████████████████████████████████████████████████████████████████████████████████████████████████████████████████████████████████████████████████████████| 50/50 [00:01<00:00, 45.03it/s, v_num=396, d_loss=0.624, g_loss=2.210]"
     ]
    },
    {
     "name": "stderr",
     "output_type": "stream",
     "text": [
      "`Trainer.fit` stopped: `max_epochs=10` reached.\n"
     ]
    },
    {
     "name": "stdout",
     "output_type": "stream",
     "text": [
      "Epoch 9: 100%|███████████████████████████████████████████████████████████████████████████████████████████████████████████████████████████████████████████████████████████████████████████| 50/50 [00:01<00:00, 45.00it/s, v_num=396, d_loss=0.624, g_loss=2.210]\n"
     ]
    },
    {
     "name": "stderr",
     "output_type": "stream",
     "text": [
      "[I 2025-07-16 18:33:14,523] Trial 9 finished with value: 0.8853256702423096 and parameters: {'lr': 0.0007901667914934578, 'b1': 0.3662225272799975, 'b2': 0.939110551227065, 'lambda_1': 0.2262663477622755, 'lambda_2': 0.9957520731321639, 'latent_dim': 84, 'gen_updates': 3, 'dis_updates': 2, 'mbd_B_dim': 25, 'mbd_C_dim': 26, 'batch_size': 32, 'a': 120}. Best is trial 5 with value: 0.04525423422455788.\n"
     ]
    },
    {
     "name": "stdout",
     "output_type": "stream",
     "text": [
      "Best trial:\n",
      "  Value: 0.04525423422455788\n",
      "  Params:\n",
      "    lr: 0.007042999705570105\n",
      "    b1: 0.0806640259552736\n",
      "    b2: 0.914177508686712\n",
      "    lambda_1: 0.14540658723349498\n",
      "    lambda_2: 0.9393229432661905\n",
      "    latent_dim: 92\n",
      "    gen_updates: 3\n",
      "    dis_updates: 5\n",
      "    mbd_B_dim: 37\n",
      "    mbd_C_dim: 47\n",
      "    batch_size: 16\n",
      "    a: 104\n"
     ]
    }
   ],
   "source": [
    "study = optuna.create_study(direction='minimize')\n",
    "study.optimize(objective, n_trials=10)\n",
    "print('Best trial:')\n",
    "trial = study.best_trial\n",
    "print(f'  Value: {trial.value}')\n",
    "print('  Params:')\n",
    "for key, val in trial.params.items():\n",
    "    print(f'    {key}: {val}')"
   ]
  },
  {
   "cell_type": "code",
   "execution_count": 3,
   "id": "b3c2d11d-5142-4196-a22c-ec1952bbfc24",
   "metadata": {},
   "outputs": [
    {
     "data": {
      "image/png": "[encoded data removed]",
      "text/plain": [
       "<Figure size 800x400 with 1 Axes>"
      ]
     },
     "metadata": {},
     "output_type": "display_data"
    }
   ],
   "source": [
    "# If you prefer a quick matplotlib bar chart instead of Plotly:\n",
    "from optuna.importance import get_param_importances\n",
    "import matplotlib.pyplot as plt\n",
    "\n",
    "imp = get_param_importances(study)\n",
    "names = list(imp.keys())\n",
    "scores = list(imp.values())\n",
    "\n",
    "plt.figure(figsize=(8,4))\n",
    "plt.barh(names, scores)\n",
    "plt.xlabel(\"Importance\")\n",
    "plt.title(\"Optuna Hyperparameter Importances\")\n",
    "plt.tight_layout()\n",
    "plt.show()"
   ]
  },
  {
   "cell_type": "code",
   "execution_count": null,
   "id": "e9c80b37-e115-4d0f-927a-3d03f374c81d",
   "metadata": {},
   "outputs": [],
   "source": []
  }
 ],
 "metadata": {
  "kernelspec": {
   "display_name": "Python 3 (ipykernel)",
   "language": "python",
   "name": "python3"
  },
  "language_info": {
   "codemirror_mode": {
    "name": "ipython",
    "version": 3
   },
   "file_extension": ".py",
   "mimetype": "text/x-python",
   "name": "python",
   "nbconvert_exporter": "python",
   "pygments_lexer": "ipython3",
   "version": "3.13.5"
  }
 },
 "nbformat": 4,
 "nbformat_minor": 5
}
