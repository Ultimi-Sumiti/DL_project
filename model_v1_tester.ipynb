{
 "cells": [
  {
   "cell_type": "code",
   "execution_count": 1,
   "id": "0651a6d2-473a-4c74-8ae0-aab7185732fc",
   "metadata": {},
   "outputs": [
    {
     "name": "stderr",
     "output_type": "stream",
     "text": [
      "/usr/lib/python3.13/site-packages/pretty_midi/instrument.py:11: UserWarning: pkg_resources is deprecated as an API. See https://setuptools.pypa.io/en/latest/pkg_resources.html. The pkg_resources package is slated for removal as early as 2025-11-30. Refrain from using this package or pin to Setuptools<81.\n",
      "  import pkg_resources\n"
     ]
    }
   ],
   "source": [
    "from models.model_v1 import *\n",
    "from data.midi_preprocessing import *\n",
    "from utils.dataset_loader import MaestroV3DataModule"
   ]
  },
  {
   "cell_type": "code",
   "execution_count": 2,
   "id": "1821cccd-80f4-4859-9e2d-a411a2a8d526",
   "metadata": {},
   "outputs": [],
   "source": [
    "# Callback to track the loss of the minmax game.\n",
    "class LossTracker(L.Callback):\n",
    "    def __init__(self):\n",
    "        self.g_losses = []\n",
    "        self.d_losses = []\n",
    "\n",
    "    #def on_train_batch_end(self, trainer, pl_module, outputs, batch, batch_idx):\n",
    "    def on_train_epoch_end(self, trainer, pl_module):\n",
    "        g_loss = trainer.callback_metrics.get(\"g_loss\")\n",
    "        d_loss = trainer.callback_metrics.get(\"d_loss\")\n",
    "        self.g_losses.append(g_loss.item())\n",
    "        self.d_losses.append(d_loss.item())\n",
    "\n",
    "    def plot(self):\n",
    "        display.clear_output(wait=True)\n",
    "        plt.plot(self.g_losses, label=\"Generator Loss\")\n",
    "        plt.plot(self.d_losses, label=\"Discriminator Loss\")\n",
    "        plt.xlabel(\"Epoch\")\n",
    "        plt.ylabel(\"Loss\")\n",
    "        plt.title(\"Training Losses\")\n",
    "        plt.legend()\n",
    "        plt.grid(True)\n",
    "        plt.show()"
   ]
  },
  {
   "cell_type": "code",
   "execution_count": 3,
   "id": "471d7448-111d-47ea-916c-e7104d80f31f",
   "metadata": {},
   "outputs": [
    {
     "name": "stderr",
     "output_type": "stream",
     "text": [
      "You are using the plain ModelCheckpoint callback. Consider using LitModelCheckpoint which with seamless uploading to Model registry.\n",
      "GPU available: True (cuda), used: True\n",
      "TPU available: False, using: 0 TPU cores\n",
      "HPU available: False, using: 0 HPUs\n"
     ]
    }
   ],
   "source": [
    "# Create the GAN.\n",
    "model = GAN(\n",
    "    lr=4e-5,\n",
    "    latent_dim=100,\n",
    "    gen_updates=3,\n",
    "    dis_updates=1,\n",
    "    minibatch_B=5,\n",
    "    minibatch_C=8,\n",
    "    lambda_1=5,\n",
    "    lambda_2=0.3,\n",
    "    batch_size=16\n",
    ")\n",
    "\n",
    "# Dataset.\n",
    "data_file_path = \"data/preprocessed/maestro-v3.0.0/dataset1/8notes_30K_dataset.h5\"\n",
    "dm = MaestroV3DataModule(data_file_path)\n",
    "\n",
    "# LossTracker.\n",
    "loss_tracker = LossTracker()\n",
    "\n",
    "# Define the trainer.\n",
    "trainer = L.Trainer(\n",
    "    #enable_progress_bar=True,\n",
    "    accelerator=\"auto\",\n",
    "    devices=1,\n",
    "    max_epochs=50,\n",
    "    callbacks=[loss_tracker]\n",
    ")"
   ]
  },
  {
   "cell_type": "code",
   "execution_count": 4,
   "id": "34d239c1-b003-44c4-bc7e-43d9e0d04c85",
   "metadata": {},
   "outputs": [
    {
     "name": "stderr",
     "output_type": "stream",
     "text": [
      "/usr/lib/python3.13/site-packages/pytorch_lightning/trainer/configuration_validator.py:70: You defined a `validation_step` but have no `val_dataloader`. Skipping val loop.\n",
      "You are using a CUDA device ('NVIDIA GeForce RTX 4070 SUPER') that has Tensor Cores. To properly utilize them, you should set `torch.set_float32_matmul_precision('medium' | 'high')` which will trade-off precision for performance. For more details, read https://pytorch.org/docs/stable/generated/torch.set_float32_matmul_precision.html#torch.set_float32_matmul_precision\n",
      "LOCAL_RANK: 0 - CUDA_VISIBLE_DEVICES: [0]\n",
      "\n",
      "  | Name          | Type          | Params | Mode \n",
      "--------------------------------------------------------\n",
      "0 | generator     | Generator     | 930 K  | train\n",
      "1 | discriminator | Discriminator | 260 K  | train\n",
      "--------------------------------------------------------\n",
      "1.2 M     Trainable params\n",
      "0         Non-trainable params\n",
      "1.2 M     Total params\n",
      "4.764     Total estimated model params size (MB)\n",
      "40        Modules in train mode\n",
      "0         Modules in eval mode\n"
     ]
    },
    {
     "name": "stdout",
     "output_type": "stream",
     "text": [
      "Epoch 0:  25%|██████████████████████████████████████████▊                                                                                                                              | 247/976 [00:06<00:18, 38.89it/s, v_num=334, d_loss=1.340, g_loss=0.827]"
     ]
    },
    {
     "name": "stderr",
     "output_type": "stream",
     "text": [
      "\n",
      "Detected KeyboardInterrupt, attempting graceful shutdown ...\n"
     ]
    },
    {
     "ename": "NameError",
     "evalue": "name 'exit' is not defined",
     "output_type": "error",
     "traceback": [
      "\u001b[31m---------------------------------------------------------------------------\u001b[39m",
      "\u001b[31mKeyboardInterrupt\u001b[39m                         Traceback (most recent call last)",
      "\u001b[36mFile \u001b[39m\u001b[32m/usr/lib/python3.13/site-packages/pytorch_lightning/trainer/call.py:48\u001b[39m, in \u001b[36m_call_and_handle_interrupt\u001b[39m\u001b[34m(trainer, trainer_fn, *args, **kwargs)\u001b[39m\n\u001b[32m     47\u001b[39m         \u001b[38;5;28;01mreturn\u001b[39;00m trainer.strategy.launcher.launch(trainer_fn, *args, trainer=trainer, **kwargs)\n\u001b[32m---> \u001b[39m\u001b[32m48\u001b[39m     \u001b[38;5;28;01mreturn\u001b[39;00m \u001b[43mtrainer_fn\u001b[49m\u001b[43m(\u001b[49m\u001b[43m*\u001b[49m\u001b[43margs\u001b[49m\u001b[43m,\u001b[49m\u001b[43m \u001b[49m\u001b[43m*\u001b[49m\u001b[43m*\u001b[49m\u001b[43mkwargs\u001b[49m\u001b[43m)\u001b[49m\n\u001b[32m     50\u001b[39m \u001b[38;5;28;01mexcept\u001b[39;00m _TunerExitException:\n",
      "\u001b[36mFile \u001b[39m\u001b[32m/usr/lib/python3.13/site-packages/pytorch_lightning/trainer/trainer.py:599\u001b[39m, in \u001b[36mTrainer._fit_impl\u001b[39m\u001b[34m(self, model, train_dataloaders, val_dataloaders, datamodule, ckpt_path)\u001b[39m\n\u001b[32m    593\u001b[39m ckpt_path = \u001b[38;5;28mself\u001b[39m._checkpoint_connector._select_ckpt_path(\n\u001b[32m    594\u001b[39m     \u001b[38;5;28mself\u001b[39m.state.fn,\n\u001b[32m    595\u001b[39m     ckpt_path,\n\u001b[32m    596\u001b[39m     model_provided=\u001b[38;5;28;01mTrue\u001b[39;00m,\n\u001b[32m    597\u001b[39m     model_connected=\u001b[38;5;28mself\u001b[39m.lightning_module \u001b[38;5;129;01mis\u001b[39;00m \u001b[38;5;129;01mnot\u001b[39;00m \u001b[38;5;28;01mNone\u001b[39;00m,\n\u001b[32m    598\u001b[39m )\n\u001b[32m--> \u001b[39m\u001b[32m599\u001b[39m \u001b[38;5;28;43mself\u001b[39;49m\u001b[43m.\u001b[49m\u001b[43m_run\u001b[49m\u001b[43m(\u001b[49m\u001b[43mmodel\u001b[49m\u001b[43m,\u001b[49m\u001b[43m \u001b[49m\u001b[43mckpt_path\u001b[49m\u001b[43m=\u001b[49m\u001b[43mckpt_path\u001b[49m\u001b[43m)\u001b[49m\n\u001b[32m    601\u001b[39m \u001b[38;5;28;01massert\u001b[39;00m \u001b[38;5;28mself\u001b[39m.state.stopped\n",
      "\u001b[36mFile \u001b[39m\u001b[32m/usr/lib/python3.13/site-packages/pytorch_lightning/trainer/trainer.py:1012\u001b[39m, in \u001b[36mTrainer._run\u001b[39m\u001b[34m(self, model, ckpt_path)\u001b[39m\n\u001b[32m   1009\u001b[39m \u001b[38;5;66;03m# ----------------------------\u001b[39;00m\n\u001b[32m   1010\u001b[39m \u001b[38;5;66;03m# RUN THE TRAINER\u001b[39;00m\n\u001b[32m   1011\u001b[39m \u001b[38;5;66;03m# ----------------------------\u001b[39;00m\n\u001b[32m-> \u001b[39m\u001b[32m1012\u001b[39m results = \u001b[38;5;28;43mself\u001b[39;49m\u001b[43m.\u001b[49m\u001b[43m_run_stage\u001b[49m\u001b[43m(\u001b[49m\u001b[43m)\u001b[49m\n\u001b[32m   1014\u001b[39m \u001b[38;5;66;03m# ----------------------------\u001b[39;00m\n\u001b[32m   1015\u001b[39m \u001b[38;5;66;03m# POST-Training CLEAN UP\u001b[39;00m\n\u001b[32m   1016\u001b[39m \u001b[38;5;66;03m# ----------------------------\u001b[39;00m\n",
      "\u001b[36mFile \u001b[39m\u001b[32m/usr/lib/python3.13/site-packages/pytorch_lightning/trainer/trainer.py:1056\u001b[39m, in \u001b[36mTrainer._run_stage\u001b[39m\u001b[34m(self)\u001b[39m\n\u001b[32m   1055\u001b[39m \u001b[38;5;28;01mwith\u001b[39;00m torch.autograd.set_detect_anomaly(\u001b[38;5;28mself\u001b[39m._detect_anomaly):\n\u001b[32m-> \u001b[39m\u001b[32m1056\u001b[39m     \u001b[38;5;28;43mself\u001b[39;49m\u001b[43m.\u001b[49m\u001b[43mfit_loop\u001b[49m\u001b[43m.\u001b[49m\u001b[43mrun\u001b[49m\u001b[43m(\u001b[49m\u001b[43m)\u001b[49m\n\u001b[32m   1057\u001b[39m \u001b[38;5;28;01mreturn\u001b[39;00m \u001b[38;5;28;01mNone\u001b[39;00m\n",
      "\u001b[36mFile \u001b[39m\u001b[32m/usr/lib/python3.13/site-packages/pytorch_lightning/loops/fit_loop.py:216\u001b[39m, in \u001b[36m_FitLoop.run\u001b[39m\u001b[34m(self)\u001b[39m\n\u001b[32m    215\u001b[39m \u001b[38;5;28mself\u001b[39m.on_advance_start()\n\u001b[32m--> \u001b[39m\u001b[32m216\u001b[39m \u001b[38;5;28;43mself\u001b[39;49m\u001b[43m.\u001b[49m\u001b[43madvance\u001b[49m\u001b[43m(\u001b[49m\u001b[43m)\u001b[49m\n\u001b[32m    217\u001b[39m \u001b[38;5;28mself\u001b[39m.on_advance_end()\n",
      "\u001b[36mFile \u001b[39m\u001b[32m/usr/lib/python3.13/site-packages/pytorch_lightning/loops/fit_loop.py:455\u001b[39m, in \u001b[36m_FitLoop.advance\u001b[39m\u001b[34m(self)\u001b[39m\n\u001b[32m    454\u001b[39m \u001b[38;5;28;01massert\u001b[39;00m \u001b[38;5;28mself\u001b[39m._data_fetcher \u001b[38;5;129;01mis\u001b[39;00m \u001b[38;5;129;01mnot\u001b[39;00m \u001b[38;5;28;01mNone\u001b[39;00m\n\u001b[32m--> \u001b[39m\u001b[32m455\u001b[39m \u001b[38;5;28;43mself\u001b[39;49m\u001b[43m.\u001b[49m\u001b[43mepoch_loop\u001b[49m\u001b[43m.\u001b[49m\u001b[43mrun\u001b[49m\u001b[43m(\u001b[49m\u001b[38;5;28;43mself\u001b[39;49m\u001b[43m.\u001b[49m\u001b[43m_data_fetcher\u001b[49m\u001b[43m)\u001b[49m\n",
      "\u001b[36mFile \u001b[39m\u001b[32m/usr/lib/python3.13/site-packages/pytorch_lightning/loops/training_epoch_loop.py:150\u001b[39m, in \u001b[36m_TrainingEpochLoop.run\u001b[39m\u001b[34m(self, data_fetcher)\u001b[39m\n\u001b[32m    149\u001b[39m \u001b[38;5;28;01mtry\u001b[39;00m:\n\u001b[32m--> \u001b[39m\u001b[32m150\u001b[39m     \u001b[38;5;28;43mself\u001b[39;49m\u001b[43m.\u001b[49m\u001b[43madvance\u001b[49m\u001b[43m(\u001b[49m\u001b[43mdata_fetcher\u001b[49m\u001b[43m)\u001b[49m\n\u001b[32m    151\u001b[39m     \u001b[38;5;28mself\u001b[39m.on_advance_end(data_fetcher)\n",
      "\u001b[36mFile \u001b[39m\u001b[32m/usr/lib/python3.13/site-packages/pytorch_lightning/loops/training_epoch_loop.py:282\u001b[39m, in \u001b[36m_TrainingEpochLoop.advance\u001b[39m\u001b[34m(self, data_fetcher)\u001b[39m\n\u001b[32m    281\u001b[39m dataloader_iter = \u001b[38;5;28;01mNone\u001b[39;00m\n\u001b[32m--> \u001b[39m\u001b[32m282\u001b[39m batch, _, __ = \u001b[38;5;28;43mnext\u001b[39;49m\u001b[43m(\u001b[49m\u001b[43mdata_fetcher\u001b[49m\u001b[43m)\u001b[49m\n\u001b[32m    283\u001b[39m \u001b[38;5;66;03m# TODO: we should instead use the batch_idx returned by the fetcher, however, that will require saving the\u001b[39;00m\n\u001b[32m    284\u001b[39m \u001b[38;5;66;03m# fetcher state so that the batch_idx is correct after restarting\u001b[39;00m\n",
      "\u001b[36mFile \u001b[39m\u001b[32m/usr/lib/python3.13/site-packages/pytorch_lightning/loops/fetchers.py:134\u001b[39m, in \u001b[36m_PrefetchDataFetcher.__next__\u001b[39m\u001b[34m(self)\u001b[39m\n\u001b[32m    132\u001b[39m \u001b[38;5;28;01melif\u001b[39;00m \u001b[38;5;129;01mnot\u001b[39;00m \u001b[38;5;28mself\u001b[39m.done:\n\u001b[32m    133\u001b[39m     \u001b[38;5;66;03m# this will run only when no pre-fetching was done.\u001b[39;00m\n\u001b[32m--> \u001b[39m\u001b[32m134\u001b[39m     batch = \u001b[38;5;28;43msuper\u001b[39;49m\u001b[43m(\u001b[49m\u001b[43m)\u001b[49m\u001b[43m.\u001b[49m\u001b[34;43m__next__\u001b[39;49m\u001b[43m(\u001b[49m\u001b[43m)\u001b[49m\n\u001b[32m    135\u001b[39m \u001b[38;5;28;01melse\u001b[39;00m:\n\u001b[32m    136\u001b[39m     \u001b[38;5;66;03m# the iterator is empty\u001b[39;00m\n",
      "\u001b[36mFile \u001b[39m\u001b[32m/usr/lib/python3.13/site-packages/pytorch_lightning/loops/fetchers.py:61\u001b[39m, in \u001b[36m_DataFetcher.__next__\u001b[39m\u001b[34m(self)\u001b[39m\n\u001b[32m     60\u001b[39m \u001b[38;5;28;01mtry\u001b[39;00m:\n\u001b[32m---> \u001b[39m\u001b[32m61\u001b[39m     batch = \u001b[38;5;28;43mnext\u001b[39;49m\u001b[43m(\u001b[49m\u001b[38;5;28;43mself\u001b[39;49m\u001b[43m.\u001b[49m\u001b[43miterator\u001b[49m\u001b[43m)\u001b[49m\n\u001b[32m     62\u001b[39m \u001b[38;5;28;01mexcept\u001b[39;00m \u001b[38;5;167;01mStopIteration\u001b[39;00m:\n",
      "\u001b[36mFile \u001b[39m\u001b[32m/usr/lib/python3.13/site-packages/pytorch_lightning/utilities/combined_loader.py:341\u001b[39m, in \u001b[36mCombinedLoader.__next__\u001b[39m\u001b[34m(self)\u001b[39m\n\u001b[32m    340\u001b[39m \u001b[38;5;28;01massert\u001b[39;00m \u001b[38;5;28mself\u001b[39m._iterator \u001b[38;5;129;01mis\u001b[39;00m \u001b[38;5;129;01mnot\u001b[39;00m \u001b[38;5;28;01mNone\u001b[39;00m\n\u001b[32m--> \u001b[39m\u001b[32m341\u001b[39m out = \u001b[38;5;28;43mnext\u001b[39;49m\u001b[43m(\u001b[49m\u001b[38;5;28;43mself\u001b[39;49m\u001b[43m.\u001b[49m\u001b[43m_iterator\u001b[49m\u001b[43m)\u001b[49m\n\u001b[32m    342\u001b[39m \u001b[38;5;28;01mif\u001b[39;00m \u001b[38;5;28misinstance\u001b[39m(\u001b[38;5;28mself\u001b[39m._iterator, _Sequential):\n",
      "\u001b[36mFile \u001b[39m\u001b[32m/usr/lib/python3.13/site-packages/pytorch_lightning/utilities/combined_loader.py:78\u001b[39m, in \u001b[36m_MaxSizeCycle.__next__\u001b[39m\u001b[34m(self)\u001b[39m\n\u001b[32m     77\u001b[39m \u001b[38;5;28;01mtry\u001b[39;00m:\n\u001b[32m---> \u001b[39m\u001b[32m78\u001b[39m     out[i] = \u001b[38;5;28;43mnext\u001b[39;49m\u001b[43m(\u001b[49m\u001b[38;5;28;43mself\u001b[39;49m\u001b[43m.\u001b[49m\u001b[43miterators\u001b[49m\u001b[43m[\u001b[49m\u001b[43mi\u001b[49m\u001b[43m]\u001b[49m\u001b[43m)\u001b[49m\n\u001b[32m     79\u001b[39m \u001b[38;5;28;01mexcept\u001b[39;00m \u001b[38;5;167;01mStopIteration\u001b[39;00m:\n",
      "\u001b[36mFile \u001b[39m\u001b[32m/usr/lib/python3.13/site-packages/torch/utils/data/dataloader.py:729\u001b[39m, in \u001b[36m_BaseDataLoaderIter.__next__\u001b[39m\u001b[34m(self)\u001b[39m\n\u001b[32m    728\u001b[39m \u001b[38;5;28;01mdef\u001b[39;00m\u001b[38;5;250m \u001b[39m\u001b[34m__next__\u001b[39m(\u001b[38;5;28mself\u001b[39m) -> Any:\n\u001b[32m--> \u001b[39m\u001b[32m729\u001b[39m \u001b[43m    \u001b[49m\u001b[38;5;28;43;01mwith\u001b[39;49;00m\u001b[43m \u001b[49m\u001b[43mtorch\u001b[49m\u001b[43m.\u001b[49m\u001b[43mautograd\u001b[49m\u001b[43m.\u001b[49m\u001b[43mprofiler\u001b[49m\u001b[43m.\u001b[49m\u001b[43mrecord_function\u001b[49m\u001b[43m(\u001b[49m\u001b[38;5;28;43mself\u001b[39;49m\u001b[43m.\u001b[49m\u001b[43m_profile_name\u001b[49m\u001b[43m)\u001b[49m\u001b[43m:\u001b[49m\n\u001b[32m    730\u001b[39m \u001b[43m        \u001b[49m\u001b[38;5;28;43;01mif\u001b[39;49;00m\u001b[43m \u001b[49m\u001b[38;5;28;43mself\u001b[39;49m\u001b[43m.\u001b[49m\u001b[43m_sampler_iter\u001b[49m\u001b[43m \u001b[49m\u001b[38;5;129;43;01mis\u001b[39;49;00m\u001b[43m \u001b[49m\u001b[38;5;28;43;01mNone\u001b[39;49;00m\u001b[43m:\u001b[49m\n\u001b[32m    731\u001b[39m \u001b[43m            \u001b[49m\u001b[38;5;66;43;03m# TODO(https://github.com/pytorch/pytorch/issues/76750)\u001b[39;49;00m\n",
      "\u001b[36mFile \u001b[39m\u001b[32m/usr/lib/python3.13/site-packages/torch/autograd/profiler.py:776\u001b[39m, in \u001b[36mrecord_function.__exit__\u001b[39m\u001b[34m(self, exc_type, exc_value, traceback)\u001b[39m\n\u001b[32m    774\u001b[39m     \u001b[38;5;28;01mreturn\u001b[39;00m \u001b[38;5;28mself\u001b[39m\n\u001b[32m--> \u001b[39m\u001b[32m776\u001b[39m \u001b[38;5;28;01mdef\u001b[39;00m\u001b[38;5;250m \u001b[39m\u001b[34m__exit__\u001b[39m(\u001b[38;5;28mself\u001b[39m, exc_type: Any, exc_value: Any, traceback: Any):\n\u001b[32m    777\u001b[39m     \u001b[38;5;28;01mif\u001b[39;00m \u001b[38;5;129;01mnot\u001b[39;00m \u001b[38;5;28mself\u001b[39m.run_callbacks_on_exit:\n",
      "\u001b[31mKeyboardInterrupt\u001b[39m: ",
      "\nDuring handling of the above exception, another exception occurred:\n",
      "\u001b[31mNameError\u001b[39m                                 Traceback (most recent call last)",
      "\u001b[36mCell\u001b[39m\u001b[36m \u001b[39m\u001b[32mIn[4]\u001b[39m\u001b[32m, line 1\u001b[39m\n\u001b[32m----> \u001b[39m\u001b[32m1\u001b[39m \u001b[43mtrainer\u001b[49m\u001b[43m.\u001b[49m\u001b[43mfit\u001b[49m\u001b[43m(\u001b[49m\u001b[43mmodel\u001b[49m\u001b[43m,\u001b[49m\u001b[43m \u001b[49m\u001b[43mdm\u001b[49m\u001b[43m)\u001b[49m\n",
      "\u001b[36mFile \u001b[39m\u001b[32m/usr/lib/python3.13/site-packages/pytorch_lightning/trainer/trainer.py:561\u001b[39m, in \u001b[36mTrainer.fit\u001b[39m\u001b[34m(self, model, train_dataloaders, val_dataloaders, datamodule, ckpt_path)\u001b[39m\n\u001b[32m    559\u001b[39m \u001b[38;5;28mself\u001b[39m.training = \u001b[38;5;28;01mTrue\u001b[39;00m\n\u001b[32m    560\u001b[39m \u001b[38;5;28mself\u001b[39m.should_stop = \u001b[38;5;28;01mFalse\u001b[39;00m\n\u001b[32m--> \u001b[39m\u001b[32m561\u001b[39m \u001b[43mcall\u001b[49m\u001b[43m.\u001b[49m\u001b[43m_call_and_handle_interrupt\u001b[49m\u001b[43m(\u001b[49m\n\u001b[32m    562\u001b[39m \u001b[43m    \u001b[49m\u001b[38;5;28;43mself\u001b[39;49m\u001b[43m,\u001b[49m\u001b[43m \u001b[49m\u001b[38;5;28;43mself\u001b[39;49m\u001b[43m.\u001b[49m\u001b[43m_fit_impl\u001b[49m\u001b[43m,\u001b[49m\u001b[43m \u001b[49m\u001b[43mmodel\u001b[49m\u001b[43m,\u001b[49m\u001b[43m \u001b[49m\u001b[43mtrain_dataloaders\u001b[49m\u001b[43m,\u001b[49m\u001b[43m \u001b[49m\u001b[43mval_dataloaders\u001b[49m\u001b[43m,\u001b[49m\u001b[43m \u001b[49m\u001b[43mdatamodule\u001b[49m\u001b[43m,\u001b[49m\u001b[43m \u001b[49m\u001b[43mckpt_path\u001b[49m\n\u001b[32m    563\u001b[39m \u001b[43m\u001b[49m\u001b[43m)\u001b[49m\n",
      "\u001b[36mFile \u001b[39m\u001b[32m/usr/lib/python3.13/site-packages/pytorch_lightning/trainer/call.py:65\u001b[39m, in \u001b[36m_call_and_handle_interrupt\u001b[39m\u001b[34m(trainer, trainer_fn, *args, **kwargs)\u001b[39m\n\u001b[32m     63\u001b[39m     \u001b[38;5;28;01mif\u001b[39;00m \u001b[38;5;28misinstance\u001b[39m(launcher, _SubprocessScriptLauncher):\n\u001b[32m     64\u001b[39m         launcher.kill(_get_sigkill_signal())\n\u001b[32m---> \u001b[39m\u001b[32m65\u001b[39m     \u001b[43mexit\u001b[49m(\u001b[32m1\u001b[39m)\n\u001b[32m     67\u001b[39m \u001b[38;5;28;01mexcept\u001b[39;00m \u001b[38;5;167;01mBaseException\u001b[39;00m \u001b[38;5;28;01mas\u001b[39;00m exception:\n\u001b[32m     68\u001b[39m     _interrupt(trainer, exception)\n",
      "\u001b[31mNameError\u001b[39m: name 'exit' is not defined"
     ]
    }
   ],
   "source": [
    "trainer.fit(model, dm)"
   ]
  },
  {
   "cell_type": "code",
   "execution_count": null,
   "id": "33f4aeca-66bc-4617-985e-ea9cbb61ab93",
   "metadata": {},
   "outputs": [],
   "source": [
    "loss_tracker.plot()"
   ]
  },
  {
   "cell_type": "code",
   "execution_count": null,
   "id": "8d0d0f00-2203-429f-a842-c7736ae972c5",
   "metadata": {},
   "outputs": [],
   "source": [
    "# Set model in evaluation.\n",
    "model.eval()\n",
    "\n",
    "# Generate a sample.\n",
    "z_lst = []\n",
    "for _ in range(3):\n",
    "    noise = torch.randn(1, 65)\n",
    "    #print(noise)\n",
    "    z_lst.append(noise)\n",
    "hat_y = []\n",
    "for z in z_lst:\n",
    "    hat_y.append(model(z))\n",
    "#print((hat_y>0).sum())\n",
    "#hat_y = hat_y.squeeze(0, 1)\n",
    "#print(hat_y.shape)\n",
    "#print(hat_y)\n",
    "#print((hat_y > 0).sum())"
   ]
  },
  {
   "cell_type": "code",
   "execution_count": null,
   "id": "cc84e9b1-7dce-4146-91fe-165a02953c8d",
   "metadata": {},
   "outputs": [],
   "source": [
    "pr_lst = []\n",
    "for i, y in enumerate(hat_y):\n",
    "    # From tensor to numpy.\n",
    "    y = y.squeeze(0, 1)\n",
    "    pr = y.detach().numpy()\n",
    "    pr *= 50\n",
    "    print(pr.shape)\n",
    "\n",
    "    # Print piano roll.\n",
    "    show_piano_roll(pr)\n",
    "    midi_file = piano_roll_to_pretty_midi(pr, fs=8)\n",
    "\n",
    "    # Save midi to file.\n",
    "    filename = \"output_ex\" + str(i) + \".midi\"\n",
    "    midi_file.write(filename)\n",
    "    pr_lst.append(pr)"
   ]
  },
  {
   "cell_type": "code",
   "execution_count": null,
   "id": "f24487fe-c9cb-49a9-8e8f-04c150485a73",
   "metadata": {},
   "outputs": [],
   "source": [
    "tensor = model(z_lst[2])\n",
    "_, max_indices = torch.max(tensor, dim=2, keepdim=True)\n",
    "#print(max_indices)\n",
    "show_piano_roll(tensor.squeeze(0,1).detach())\n",
    "(tensor.squeeze(0,1) > 1).sum()\n",
    "\n",
    "#y_hard = torch.zeros_like(tensor)\n",
    "#y_hard = y_hard.scatter(dim=2, index=max_indices, value=1.0)\n",
    "#out = (y_hard - tensor).detach() + tensor\n",
    "#out = out.squeeze(0, 1)\n",
    "#(out > 0).sum()\n",
    "#show_piano_roll(out.detach())"
   ]
  },
  {
   "cell_type": "code",
   "execution_count": null,
   "id": "fd22e8ae-fd1e-4f13-9ef6-c66413207571",
   "metadata": {},
   "outputs": [],
   "source": [
    "def ascolta_midi(file_midi: str):\n",
    "    \"\"\"\n",
    "    Riproduce un file MIDI utilizzando pygame.\n",
    "\n",
    "    Args:\n",
    "        file_midi (str): Il percorso del file .mid da riprodurre.\n",
    "    \"\"\"\n",
    "    try:\n",
    "        # Inizializza il mixer di pygame\n",
    "        # I valori sono standard: frequenza, bit, canali, dimensione del buffer\n",
    "        pygame.mixer.init(44100, -16, 2, 512)\n",
    "\n",
    "        pygame.init()\n",
    "\n",
    "        print(f\"🎵 Riproduzione di '{file_midi}'...\")\n",
    "\n",
    "        # Carica e riproduci il file MIDI\n",
    "        pygame.mixer.music.load(file_midi)\n",
    "        pygame.mixer.music.play()\n",
    "\n",
    "        # Attendi che la musica finisca\n",
    "        # Mantiene lo script attivo finché la musica è in riproduzione\n",
    "        while pygame.mixer.music.get_busy():\n",
    "            time.sleep(0.1)\n",
    "\n",
    "    except pygame.error as e:\n",
    "        print(f\"Errore di pygame: {e}\")\n",
    "        print(\"Assicurati che il file MIDI sia valido e che i driver audio funzionino.\")\n",
    "    except FileNotFoundError:\n",
    "        print(f\"Errore: File non trovato all'indirizzo '{file_midi}'\")\n",
    "    finally:\n",
    "        # Pulisci e chiudi pygame per liberare le risorse\n",
    "        if pygame.get_init():\n",
    "            pygame.mixer.music.stop()\n",
    "            pygame.mixer.quit()\n",
    "            pygame.quit()\n",
    "        print(\"Riproduzione terminata.\")"
   ]
  },
  {
   "cell_type": "code",
   "execution_count": null,
   "id": "42ce1c8b-ab6c-4feb-8e8d-c0a2e57ae407",
   "metadata": {},
   "outputs": [],
   "source": [
    "ascolta_midi(\"ouput_ex.midi\")"
   ]
  },
  {
   "cell_type": "code",
   "execution_count": null,
   "id": "c70a35fb-ad79-4676-a603-b6e106685c48",
   "metadata": {},
   "outputs": [],
   "source": [
    "# Istanzia il modello\n",
    "model_to_train = SimpleClassifier(input_dim=INPUT_DIM, hidden_dim=HIDDEN_DIM, learning_rate=LEARNING_RATE)\n",
    "\n",
    "# Crea una cartella per i checkpoint se non esiste\n",
    "checkpoint_dir = \"my_training_checkpoints\"\n",
    "os.makedirs(checkpoint_dir, exist_ok=True)\n",
    "\n",
    "# Callback per salvare il checkpoint finale\n",
    "checkpoint_callback = ModelCheckpoint(\n",
    "    dirpath=checkpoint_dir,\n",
    "    filename=\"my_model-{epoch:02d}\",\n",
    "    save_last=True # Salva l'ultimo checkpoint al termine\n",
    ")\n",
    "\n",
    "# Trainer\n",
    "trainer = pl.Trainer(\n",
    "    max_epochs=EPOCHS,\n",
    "    callbacks=[checkpoint_callback],\n",
    "    logger=False # Per questo esempio, disabilitiamo il logger per semplicità\n",
    ")\n",
    "\n",
    "print(\"\\n--- Inizio del training ---\")\n",
    "trainer.fit(model_to_train, dataloader)\n",
    "print(\"--- Training completato ---\")\n",
    "\n",
    "# Trova il percorso dell'ultimo checkpoint salvato\n",
    "last_checkpoint_path = checkpoint_callback.last_model_path\n",
    "print(f\"\\nCheckpoint salvato in: {last_checkpoint_path}\")\n",
    "\n",
    "# 4. Caricamento del Modello e degli Iperparametri dal Checkpoint\n",
    "\n",
    "print(\"\\n--- Caricamento del modello dal checkpoint ---\")\n",
    "\n",
    "# Metodo 1: Caricare il checkpoint raw e accedere agli iperparametri\n",
    "# Questo è utile se vuoi solo leggere gli iperparametri senza istanziare subito il modello\n",
    "checkpoint_dict = torch.load(last_checkpoint_path, map_location=lambda storage, loc: storage)\n",
    "\n",
    "print(f\"Iperparametri salvati: {checkpoint_dict.get('hyper_parameters', 'Chiave non trovata, prova \"hparams\"')}\")\n",
    "# Le versioni più recenti di Lightning usano 'hparams', le vecchie 'hyper_parameters'\n",
    "# Quindi potresti voler usare .get('hparams', checkpoint_dict.get('hyper_parameters')) o controllare\n",
    "\n",
    "print(f\"Iperparametri specifici: Input Dim={checkpoint_dict['hyper_parameters']['input_dim']}, \"\n",
    "      f\"Hidden Dim={checkpoint_dict['hyper_parameters']['hidden_dim']}, \"\n",
    "      f\"Learning Rate={checkpoint_dict['hyper_parameters']['learning_rate']}\")\n",
    "\n",
    "\n",
    "# Metodo 2 (Raccomandato): Caricare direttamente il LightningModule dal checkpoint\n",
    "# Questo re-instanza il tuo LightningModule con gli iperparametri salvati\n",
    "# e carica i pesi del modello.\n",
    "loaded_model = SimpleClassifier.load_from_checkpoint(last_checkpoint_path)\n",
    "\n",
    "print(f\"\\nModello caricato con successo. Iperparametri recuperati da .hparams: {loaded_model.hparams}\")\n",
    "print(f\"Tipo di Learning Rate nel modello caricato: {loaded_model.hparams.learning_rate}\")\n",
    "\n",
    "# Puoi accedere ai pesi del modello caricato\n",
    "# print(loaded_model.state_dict())\n",
    "\n",
    "# Ora puoi usare 'loaded_model' per inferenza o continuare il training\n",
    "loaded_model.eval() # Imposta il modello in modalità valutazione\n",
    "sample_input = torch.randn(1, INPUT_DIM)\n",
    "output = loaded_model(sample_input)\n",
    "print(f\"\\nOutput di esempio dal modello caricato: {output.item():.4f}\")\n",
    "\n",
    "# Simulare un nuovo training partendo dal checkpoint (opzionale)\n",
    "# new_trainer = pl.Trainer(max_epochs=10, logger=False) # Continua per altre 5 epoche (tot 10)\n",
    "# new_trainer.fit(loaded_model, dataloader, ckpt_path=last_checkpoint_path) # Riprende dal checkpoint\n",
    "\n",
    "# Pulizia (opzionale)\n",
    "# import shutil\n",
    "# if os.path.exists(checkpoint_dir):\n",
    "#     shutil.rmtree(checkpoint_dir)"
   ]
  }
 ],
 "metadata": {
  "kernelspec": {
   "display_name": "Python 3 (ipykernel)",
   "language": "python",
   "name": "python3"
  },
  "language_info": {
   "codemirror_mode": {
    "name": "ipython",
    "version": 3
   },
   "file_extension": ".py",
   "mimetype": "text/x-python",
   "name": "python",
   "nbconvert_exporter": "python",
   "pygments_lexer": "ipython3",
   "version": "3.13.5"
  }
 },
 "nbformat": 4,
 "nbformat_minor": 5
}
